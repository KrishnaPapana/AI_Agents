{
 "cells": [
  {
   "cell_type": "code",
   "execution_count": 4,
   "id": "8a259ac1",
   "metadata": {},
   "outputs": [
    {
     "data": {
      "text/plain": [
       "'This project will help users plan their weekly meals based on dietary preferences, allergies, and available ingredients. \\nThe AI will suggest meal ideas, provide recipes, and even create shopping lists. \\nIt could also include functionality to send reminders for grocery shopping.'"
      ]
     },
     "execution_count": 4,
     "metadata": {},
     "output_type": "execute_result"
    }
   ],
   "source": [
    "##AI Recipe Generator and Meal Planner\n",
    "##Project Overview:\n",
    "'''This project will help users plan their weekly meals based on dietary preferences, allergies, and available ingredients. \n",
    "The AI will suggest meal ideas, provide recipes, and even create shopping lists. \n",
    "It could also include functionality to send reminders for grocery shopping.'''\n",
    "\n"
   ]
  },
  {
   "cell_type": "code",
   "execution_count": 5,
   "id": "2a955aab",
   "metadata": {},
   "outputs": [
    {
     "ename": "ModuleNotFoundError",
     "evalue": "No module named 'pydantic_core._pydantic_core'",
     "output_type": "error",
     "traceback": [
      "\u001b[31m---------------------------------------------------------------------------\u001b[39m",
      "\u001b[31mModuleNotFoundError\u001b[39m                       Traceback (most recent call last)",
      "\u001b[36mCell\u001b[39m\u001b[36m \u001b[39m\u001b[32mIn[5]\u001b[39m\u001b[32m, line 1\u001b[39m\n\u001b[32m----> \u001b[39m\u001b[32m1\u001b[39m \u001b[38;5;28;01mfrom\u001b[39;00m\u001b[38;5;250m \u001b[39m\u001b[34;01magents\u001b[39;00m\u001b[38;5;250m \u001b[39m\u001b[38;5;28;01mimport\u001b[39;00m Agent, Runner, trace, function_tool\n\u001b[32m      2\u001b[39m \u001b[38;5;28;01mfrom\u001b[39;00m\u001b[38;5;250m \u001b[39m\u001b[34;01mdotenv\u001b[39;00m\u001b[38;5;250m \u001b[39m\u001b[38;5;28;01mimport\u001b[39;00m load_dotenv\n",
      "\u001b[36mFile \u001b[39m\u001b[32mc:\\Users\\PC\\OneDrive\\Desktop\\Projects\\AI_Agents\\Personal_Projects\\AI Meal Planner Agent\\.venv\\Lib\\site-packages\\agents\\__init__.py:5\u001b[39m\n\u001b[32m      2\u001b[39m \u001b[38;5;28;01mimport\u001b[39;00m\u001b[38;5;250m \u001b[39m\u001b[34;01msys\u001b[39;00m\n\u001b[32m      3\u001b[39m \u001b[38;5;28;01mfrom\u001b[39;00m\u001b[38;5;250m \u001b[39m\u001b[34;01mtyping\u001b[39;00m\u001b[38;5;250m \u001b[39m\u001b[38;5;28;01mimport\u001b[39;00m Literal\n\u001b[32m----> \u001b[39m\u001b[32m5\u001b[39m \u001b[38;5;28;01mfrom\u001b[39;00m\u001b[38;5;250m \u001b[39m\u001b[34;01mopenai\u001b[39;00m\u001b[38;5;250m \u001b[39m\u001b[38;5;28;01mimport\u001b[39;00m AsyncOpenAI\n\u001b[32m      7\u001b[39m \u001b[38;5;28;01mfrom\u001b[39;00m\u001b[38;5;250m \u001b[39m\u001b[34;01m.\u001b[39;00m\u001b[38;5;250m \u001b[39m\u001b[38;5;28;01mimport\u001b[39;00m _config\n\u001b[32m      8\u001b[39m \u001b[38;5;28;01mfrom\u001b[39;00m\u001b[38;5;250m \u001b[39m\u001b[34;01m.\u001b[39;00m\u001b[34;01magent\u001b[39;00m\u001b[38;5;250m \u001b[39m\u001b[38;5;28;01mimport\u001b[39;00m Agent, ToolsToFinalOutputFunction, ToolsToFinalOutputResult\n",
      "\u001b[36mFile \u001b[39m\u001b[32mc:\\Users\\PC\\OneDrive\\Desktop\\Projects\\AI_Agents\\Personal_Projects\\AI Meal Planner Agent\\.venv\\Lib\\site-packages\\openai\\__init__.py:9\u001b[39m\n\u001b[32m      6\u001b[39m \u001b[38;5;28;01mimport\u001b[39;00m\u001b[38;5;250m \u001b[39m\u001b[34;01mtyping\u001b[39;00m\u001b[38;5;250m \u001b[39m\u001b[38;5;28;01mas\u001b[39;00m\u001b[38;5;250m \u001b[39m\u001b[34;01m_t\u001b[39;00m\n\u001b[32m      7\u001b[39m \u001b[38;5;28;01mfrom\u001b[39;00m\u001b[38;5;250m \u001b[39m\u001b[34;01mtyping_extensions\u001b[39;00m\u001b[38;5;250m \u001b[39m\u001b[38;5;28;01mimport\u001b[39;00m override\n\u001b[32m----> \u001b[39m\u001b[32m9\u001b[39m \u001b[38;5;28;01mfrom\u001b[39;00m\u001b[38;5;250m \u001b[39m\u001b[34;01m.\u001b[39;00m\u001b[38;5;250m \u001b[39m\u001b[38;5;28;01mimport\u001b[39;00m types\n\u001b[32m     10\u001b[39m \u001b[38;5;28;01mfrom\u001b[39;00m\u001b[38;5;250m \u001b[39m\u001b[34;01m.\u001b[39;00m\u001b[34;01m_types\u001b[39;00m\u001b[38;5;250m \u001b[39m\u001b[38;5;28;01mimport\u001b[39;00m NOT_GIVEN, Omit, NoneType, NotGiven, Transport, ProxiesTypes\n\u001b[32m     11\u001b[39m \u001b[38;5;28;01mfrom\u001b[39;00m\u001b[38;5;250m \u001b[39m\u001b[34;01m.\u001b[39;00m\u001b[34;01m_utils\u001b[39;00m\u001b[38;5;250m \u001b[39m\u001b[38;5;28;01mimport\u001b[39;00m file_from_path\n",
      "\u001b[36mFile \u001b[39m\u001b[32mc:\\Users\\PC\\OneDrive\\Desktop\\Projects\\AI_Agents\\Personal_Projects\\AI Meal Planner Agent\\.venv\\Lib\\site-packages\\openai\\types\\__init__.py:5\u001b[39m\n\u001b[32m      1\u001b[39m \u001b[38;5;66;03m# File generated from our OpenAPI spec by Stainless. See CONTRIBUTING.md for details.\u001b[39;00m\n\u001b[32m      3\u001b[39m \u001b[38;5;28;01mfrom\u001b[39;00m\u001b[38;5;250m \u001b[39m\u001b[34;01m__future__\u001b[39;00m\u001b[38;5;250m \u001b[39m\u001b[38;5;28;01mimport\u001b[39;00m annotations\n\u001b[32m----> \u001b[39m\u001b[32m5\u001b[39m \u001b[38;5;28;01mfrom\u001b[39;00m\u001b[38;5;250m \u001b[39m\u001b[34;01m.\u001b[39;00m\u001b[34;01mbatch\u001b[39;00m\u001b[38;5;250m \u001b[39m\u001b[38;5;28;01mimport\u001b[39;00m Batch \u001b[38;5;28;01mas\u001b[39;00m Batch\n\u001b[32m      6\u001b[39m \u001b[38;5;28;01mfrom\u001b[39;00m\u001b[38;5;250m \u001b[39m\u001b[34;01m.\u001b[39;00m\u001b[34;01mimage\u001b[39;00m\u001b[38;5;250m \u001b[39m\u001b[38;5;28;01mimport\u001b[39;00m Image \u001b[38;5;28;01mas\u001b[39;00m Image\n\u001b[32m      7\u001b[39m \u001b[38;5;28;01mfrom\u001b[39;00m\u001b[38;5;250m \u001b[39m\u001b[34;01m.\u001b[39;00m\u001b[34;01mmodel\u001b[39;00m\u001b[38;5;250m \u001b[39m\u001b[38;5;28;01mimport\u001b[39;00m Model \u001b[38;5;28;01mas\u001b[39;00m Model\n",
      "\u001b[36mFile \u001b[39m\u001b[32mc:\\Users\\PC\\OneDrive\\Desktop\\Projects\\AI_Agents\\Personal_Projects\\AI Meal Planner Agent\\.venv\\Lib\\site-packages\\openai\\types\\batch.py:6\u001b[39m\n\u001b[32m      3\u001b[39m \u001b[38;5;28;01mfrom\u001b[39;00m\u001b[38;5;250m \u001b[39m\u001b[34;01mtyping\u001b[39;00m\u001b[38;5;250m \u001b[39m\u001b[38;5;28;01mimport\u001b[39;00m List, Optional\n\u001b[32m      4\u001b[39m \u001b[38;5;28;01mfrom\u001b[39;00m\u001b[38;5;250m \u001b[39m\u001b[34;01mtyping_extensions\u001b[39;00m\u001b[38;5;250m \u001b[39m\u001b[38;5;28;01mimport\u001b[39;00m Literal\n\u001b[32m----> \u001b[39m\u001b[32m6\u001b[39m \u001b[38;5;28;01mfrom\u001b[39;00m\u001b[38;5;250m \u001b[39m\u001b[34;01m.\u001b[39;00m\u001b[34;01m.\u001b[39;00m\u001b[34;01m_models\u001b[39;00m\u001b[38;5;250m \u001b[39m\u001b[38;5;28;01mimport\u001b[39;00m BaseModel\n\u001b[32m      7\u001b[39m \u001b[38;5;28;01mfrom\u001b[39;00m\u001b[38;5;250m \u001b[39m\u001b[34;01m.\u001b[39;00m\u001b[34;01mbatch_error\u001b[39;00m\u001b[38;5;250m \u001b[39m\u001b[38;5;28;01mimport\u001b[39;00m BatchError\n\u001b[32m      8\u001b[39m \u001b[38;5;28;01mfrom\u001b[39;00m\u001b[38;5;250m \u001b[39m\u001b[34;01m.\u001b[39;00m\u001b[34;01mshared\u001b[39;00m\u001b[34;01m.\u001b[39;00m\u001b[34;01mmetadata\u001b[39;00m\u001b[38;5;250m \u001b[39m\u001b[38;5;28;01mimport\u001b[39;00m Metadata\n",
      "\u001b[36mFile \u001b[39m\u001b[32mc:\\Users\\PC\\OneDrive\\Desktop\\Projects\\AI_Agents\\Personal_Projects\\AI Meal Planner Agent\\.venv\\Lib\\site-packages\\openai\\_models.py:22\u001b[39m\n\u001b[32m      6\u001b[39m \u001b[38;5;28;01mfrom\u001b[39;00m\u001b[38;5;250m \u001b[39m\u001b[34;01mdatetime\u001b[39;00m\u001b[38;5;250m \u001b[39m\u001b[38;5;28;01mimport\u001b[39;00m date, datetime\n\u001b[32m      7\u001b[39m \u001b[38;5;28;01mfrom\u001b[39;00m\u001b[38;5;250m \u001b[39m\u001b[34;01mtyping_extensions\u001b[39;00m\u001b[38;5;250m \u001b[39m\u001b[38;5;28;01mimport\u001b[39;00m (\n\u001b[32m      8\u001b[39m     Unpack,\n\u001b[32m      9\u001b[39m     Literal,\n\u001b[32m   (...)\u001b[39m\u001b[32m     19\u001b[39m     runtime_checkable,\n\u001b[32m     20\u001b[39m )\n\u001b[32m---> \u001b[39m\u001b[32m22\u001b[39m \u001b[38;5;28;01mimport\u001b[39;00m\u001b[38;5;250m \u001b[39m\u001b[34;01mpydantic\u001b[39;00m\n\u001b[32m     23\u001b[39m \u001b[38;5;28;01mfrom\u001b[39;00m\u001b[38;5;250m \u001b[39m\u001b[34;01mpydantic\u001b[39;00m\u001b[34;01m.\u001b[39;00m\u001b[34;01mfields\u001b[39;00m\u001b[38;5;250m \u001b[39m\u001b[38;5;28;01mimport\u001b[39;00m FieldInfo\n\u001b[32m     25\u001b[39m \u001b[38;5;28;01mfrom\u001b[39;00m\u001b[38;5;250m \u001b[39m\u001b[34;01m.\u001b[39;00m\u001b[34;01m_types\u001b[39;00m\u001b[38;5;250m \u001b[39m\u001b[38;5;28;01mimport\u001b[39;00m (\n\u001b[32m     26\u001b[39m     Body,\n\u001b[32m     27\u001b[39m     IncEx,\n\u001b[32m   (...)\u001b[39m\u001b[32m     34\u001b[39m     HttpxRequestFiles,\n\u001b[32m     35\u001b[39m )\n",
      "\u001b[36mFile \u001b[39m\u001b[32mc:\\Users\\PC\\OneDrive\\Desktop\\Projects\\AI_Agents\\Personal_Projects\\AI Meal Planner Agent\\.venv\\Lib\\site-packages\\pydantic\\__init__.py:5\u001b[39m\n\u001b[32m      2\u001b[39m \u001b[38;5;28;01mfrom\u001b[39;00m\u001b[38;5;250m \u001b[39m\u001b[34;01mimportlib\u001b[39;00m\u001b[38;5;250m \u001b[39m\u001b[38;5;28;01mimport\u001b[39;00m import_module\n\u001b[32m      3\u001b[39m \u001b[38;5;28;01mfrom\u001b[39;00m\u001b[38;5;250m \u001b[39m\u001b[34;01mwarnings\u001b[39;00m\u001b[38;5;250m \u001b[39m\u001b[38;5;28;01mimport\u001b[39;00m warn\n\u001b[32m----> \u001b[39m\u001b[32m5\u001b[39m \u001b[38;5;28;01mfrom\u001b[39;00m\u001b[38;5;250m \u001b[39m\u001b[34;01m.\u001b[39;00m\u001b[34;01m_migration\u001b[39;00m\u001b[38;5;250m \u001b[39m\u001b[38;5;28;01mimport\u001b[39;00m getattr_migration\n\u001b[32m      6\u001b[39m \u001b[38;5;28;01mfrom\u001b[39;00m\u001b[38;5;250m \u001b[39m\u001b[34;01m.\u001b[39;00m\u001b[34;01mversion\u001b[39;00m\u001b[38;5;250m \u001b[39m\u001b[38;5;28;01mimport\u001b[39;00m VERSION\n\u001b[32m      8\u001b[39m \u001b[38;5;28;01mif\u001b[39;00m typing.TYPE_CHECKING:\n\u001b[32m      9\u001b[39m     \u001b[38;5;66;03m# import of virtually everything is supported via `__getattr__` below,\u001b[39;00m\n\u001b[32m     10\u001b[39m     \u001b[38;5;66;03m# but we need them here for type checking and IDE support\u001b[39;00m\n",
      "\u001b[36mFile \u001b[39m\u001b[32mc:\\Users\\PC\\OneDrive\\Desktop\\Projects\\AI_Agents\\Personal_Projects\\AI Meal Planner Agent\\.venv\\Lib\\site-packages\\pydantic\\_migration.py:4\u001b[39m\n\u001b[32m      1\u001b[39m \u001b[38;5;28;01mimport\u001b[39;00m\u001b[38;5;250m \u001b[39m\u001b[34;01msys\u001b[39;00m\n\u001b[32m      2\u001b[39m \u001b[38;5;28;01mfrom\u001b[39;00m\u001b[38;5;250m \u001b[39m\u001b[34;01mtyping\u001b[39;00m\u001b[38;5;250m \u001b[39m\u001b[38;5;28;01mimport\u001b[39;00m Any, Callable\n\u001b[32m----> \u001b[39m\u001b[32m4\u001b[39m \u001b[38;5;28;01mfrom\u001b[39;00m\u001b[38;5;250m \u001b[39m\u001b[34;01m.\u001b[39;00m\u001b[34;01mversion\u001b[39;00m\u001b[38;5;250m \u001b[39m\u001b[38;5;28;01mimport\u001b[39;00m version_short\n\u001b[32m      6\u001b[39m MOVED_IN_V2 = {\n\u001b[32m      7\u001b[39m     \u001b[33m'\u001b[39m\u001b[33mpydantic.utils:version_info\u001b[39m\u001b[33m'\u001b[39m: \u001b[33m'\u001b[39m\u001b[33mpydantic.version:version_info\u001b[39m\u001b[33m'\u001b[39m,\n\u001b[32m      8\u001b[39m     \u001b[33m'\u001b[39m\u001b[33mpydantic.error_wrappers:ValidationError\u001b[39m\u001b[33m'\u001b[39m: \u001b[33m'\u001b[39m\u001b[33mpydantic:ValidationError\u001b[39m\u001b[33m'\u001b[39m,\n\u001b[32m   (...)\u001b[39m\u001b[32m     13\u001b[39m     \u001b[33m'\u001b[39m\u001b[33mpydantic.generics:GenericModel\u001b[39m\u001b[33m'\u001b[39m: \u001b[33m'\u001b[39m\u001b[33mpydantic.BaseModel\u001b[39m\u001b[33m'\u001b[39m,\n\u001b[32m     14\u001b[39m }\n\u001b[32m     16\u001b[39m DEPRECATED_MOVED_IN_V2 = {\n\u001b[32m     17\u001b[39m     \u001b[33m'\u001b[39m\u001b[33mpydantic.tools:schema_of\u001b[39m\u001b[33m'\u001b[39m: \u001b[33m'\u001b[39m\u001b[33mpydantic.deprecated.tools:schema_of\u001b[39m\u001b[33m'\u001b[39m,\n\u001b[32m     18\u001b[39m     \u001b[33m'\u001b[39m\u001b[33mpydantic.tools:parse_obj_as\u001b[39m\u001b[33m'\u001b[39m: \u001b[33m'\u001b[39m\u001b[33mpydantic.deprecated.tools:parse_obj_as\u001b[39m\u001b[33m'\u001b[39m,\n\u001b[32m   (...)\u001b[39m\u001b[32m     28\u001b[39m     \u001b[33m'\u001b[39m\u001b[33mpydantic.config:Extra\u001b[39m\u001b[33m'\u001b[39m: \u001b[33m'\u001b[39m\u001b[33mpydantic.deprecated.config:Extra\u001b[39m\u001b[33m'\u001b[39m,\n\u001b[32m     29\u001b[39m }\n",
      "\u001b[36mFile \u001b[39m\u001b[32mc:\\Users\\PC\\OneDrive\\Desktop\\Projects\\AI_Agents\\Personal_Projects\\AI Meal Planner Agent\\.venv\\Lib\\site-packages\\pydantic\\version.py:5\u001b[39m\n\u001b[32m      1\u001b[39m \u001b[33;03m\"\"\"The `version` module holds the version information for Pydantic.\"\"\"\u001b[39;00m\n\u001b[32m      3\u001b[39m \u001b[38;5;28;01mfrom\u001b[39;00m\u001b[38;5;250m \u001b[39m\u001b[34;01m__future__\u001b[39;00m\u001b[38;5;250m \u001b[39m\u001b[38;5;28;01mimport\u001b[39;00m annotations \u001b[38;5;28;01mas\u001b[39;00m _annotations\n\u001b[32m----> \u001b[39m\u001b[32m5\u001b[39m \u001b[38;5;28;01mfrom\u001b[39;00m\u001b[38;5;250m \u001b[39m\u001b[34;01mpydantic_core\u001b[39;00m\u001b[38;5;250m \u001b[39m\u001b[38;5;28;01mimport\u001b[39;00m __version__ \u001b[38;5;28;01mas\u001b[39;00m __pydantic_core_version__\n\u001b[32m      7\u001b[39m __all__ = \u001b[33m'\u001b[39m\u001b[33mVERSION\u001b[39m\u001b[33m'\u001b[39m, \u001b[33m'\u001b[39m\u001b[33mversion_info\u001b[39m\u001b[33m'\u001b[39m\n\u001b[32m      9\u001b[39m VERSION = \u001b[33m'\u001b[39m\u001b[33m2.11.7\u001b[39m\u001b[33m'\u001b[39m\n",
      "\u001b[36mFile \u001b[39m\u001b[32mc:\\Users\\PC\\OneDrive\\Desktop\\Projects\\AI_Agents\\Personal_Projects\\AI Meal Planner Agent\\.venv\\Lib\\site-packages\\pydantic_core\\__init__.py:6\u001b[39m\n\u001b[32m      3\u001b[39m \u001b[38;5;28;01mimport\u001b[39;00m\u001b[38;5;250m \u001b[39m\u001b[34;01msys\u001b[39;00m\u001b[38;5;250m \u001b[39m\u001b[38;5;28;01mas\u001b[39;00m\u001b[38;5;250m \u001b[39m\u001b[34;01m_sys\u001b[39;00m\n\u001b[32m      4\u001b[39m \u001b[38;5;28;01mfrom\u001b[39;00m\u001b[38;5;250m \u001b[39m\u001b[34;01mtyping\u001b[39;00m\u001b[38;5;250m \u001b[39m\u001b[38;5;28;01mimport\u001b[39;00m Any \u001b[38;5;28;01mas\u001b[39;00m _Any\n\u001b[32m----> \u001b[39m\u001b[32m6\u001b[39m \u001b[38;5;28;01mfrom\u001b[39;00m\u001b[38;5;250m \u001b[39m\u001b[34;01m.\u001b[39;00m\u001b[34;01m_pydantic_core\u001b[39;00m\u001b[38;5;250m \u001b[39m\u001b[38;5;28;01mimport\u001b[39;00m (\n\u001b[32m      7\u001b[39m     ArgsKwargs,\n\u001b[32m      8\u001b[39m     MultiHostUrl,\n\u001b[32m      9\u001b[39m     PydanticCustomError,\n\u001b[32m     10\u001b[39m     PydanticKnownError,\n\u001b[32m     11\u001b[39m     PydanticOmit,\n\u001b[32m     12\u001b[39m     PydanticSerializationError,\n\u001b[32m     13\u001b[39m     PydanticSerializationUnexpectedValue,\n\u001b[32m     14\u001b[39m     PydanticUndefined,\n\u001b[32m     15\u001b[39m     PydanticUndefinedType,\n\u001b[32m     16\u001b[39m     PydanticUseDefault,\n\u001b[32m     17\u001b[39m     SchemaError,\n\u001b[32m     18\u001b[39m     SchemaSerializer,\n\u001b[32m     19\u001b[39m     SchemaValidator,\n\u001b[32m     20\u001b[39m     Some,\n\u001b[32m     21\u001b[39m     TzInfo,\n\u001b[32m     22\u001b[39m     Url,\n\u001b[32m     23\u001b[39m     ValidationError,\n\u001b[32m     24\u001b[39m     __version__,\n\u001b[32m     25\u001b[39m     from_json,\n\u001b[32m     26\u001b[39m     to_json,\n\u001b[32m     27\u001b[39m     to_jsonable_python,\n\u001b[32m     28\u001b[39m     validate_core_schema,\n\u001b[32m     29\u001b[39m )\n\u001b[32m     30\u001b[39m \u001b[38;5;28;01mfrom\u001b[39;00m\u001b[38;5;250m \u001b[39m\u001b[34;01m.\u001b[39;00m\u001b[34;01mcore_schema\u001b[39;00m\u001b[38;5;250m \u001b[39m\u001b[38;5;28;01mimport\u001b[39;00m CoreConfig, CoreSchema, CoreSchemaType, ErrorType\n\u001b[32m     32\u001b[39m \u001b[38;5;28;01mif\u001b[39;00m _sys.version_info < (\u001b[32m3\u001b[39m, \u001b[32m11\u001b[39m):\n",
      "\u001b[31mModuleNotFoundError\u001b[39m: No module named 'pydantic_core._pydantic_core'"
     ]
    }
   ],
   "source": [
    "from agents import Agent, Runner, trace, function_tool\n",
    "from dotenv import load_dotenv\n"
   ]
  },
  {
   "cell_type": "code",
   "execution_count": null,
   "id": "adcdec99",
   "metadata": {},
   "outputs": [
    {
     "data": {
      "text/plain": [
       "True"
      ]
     },
     "execution_count": 7,
     "metadata": {},
     "output_type": "execute_result"
    }
   ],
   "source": [
    "load_dotenv(override=True)"
   ]
  },
  {
   "cell_type": "code",
   "execution_count": null,
   "id": "d68ba881",
   "metadata": {},
   "outputs": [],
   "source": [
    "#Meal Suggestion Agent:\n",
    "\n",
    "Meal_Suggestion_Agent = Agent(\n",
    "    name=\"Meal Suggestion Agent\",\n",
    "    instructions=\"You are a meal suggestion agent. you will take input about dietary preferences, allergies, and available ingredients. \\\n",
    "    you will return a list of meal ideas.\",\n",
    "    model=\"gpt-4o-mini\",\n",
    ")\n"
   ]
  },
  {
   "cell_type": "code",
   "execution_count": null,
   "id": "86fa99f9",
   "metadata": {},
   "outputs": [],
   "source": [
    "#Recipe Generation Agent:\n",
    "\n",
    "instructions = \"You are a recipe generation agent. Once a meal is selected, you will generates a detailed recipe with steps,\\\n",
    "    ingredients, and prep time.\"\n",
    "\n",
    "Recipe_Generator_Agent = Agent(\n",
    "    name=\"Recipe Generator Agent\",\n",
    "    instructions=instructions,\n",
    "    model=\"gpt-4o-mini\",\n",
    ")\n",
    "\n"
   ]
  },
  {
   "cell_type": "code",
   "execution_count": null,
   "id": "3da663cb",
   "metadata": {},
   "outputs": [],
   "source": [
    "#tools for the agents\n",
    "\n",
    "meal_planner_tools = Meal_Suggestion_Agent.as_tool(\"Meal_Suggestion_Agent\", tool_description=\"Suggest 3 meal ideas based on the user's dietary preferences and available ingredients\")\n",
    "\n",
    "recipe_generator_tools = Recipe_Generator_Agent.as_tool(\"Recipe_Generator_Agent\", tool_description=\"Generate a detailed recipe for the selected meal.\")\n"
   ]
  },
  {
   "cell_type": "code",
   "execution_count": null,
   "id": "6ecb4192",
   "metadata": {},
   "outputs": [],
   "source": [
    "@function_tool\n",
    "def generate_shopping_list(meal_plan: str):\n",
    "    \"\"\"Generate a shopping list based on the meal plan\"\"\"\n",
    "    return f\"Shopping list for {meal_plan}\""
   ]
  },
  {
   "cell_type": "code",
   "execution_count": null,
   "id": "071ba8bd",
   "metadata": {},
   "outputs": [],
   "source": [
    "instructions = \"You are a Meal Planner Agent. When a promt is given you will use the Meal planner tool to generate 3 meal ideas. \\\n",
    "    You choose a best meal from the suggestions of Meal planner tool \\\n",
    "    and pass it on to the Recipe Generation tool for the recipe. \\\n",
    "    After the recipe is generated, you pass it to the Shopping List tool to generate a shopping list.\"\n",
    "\n",
    "meal_planner_agent = Agent(\n",
    "    name=\"Meal Planner Agent\",\n",
    "    instructions=instructions,\n",
    "    tools=[meal_planner_tools, recipe_generator_tools , generate_shopping_list],\n",
    "    model=\"gpt-4o-mini\"\n",
    ")\n",
    "\n",
    "message = \"Suggest a meal for a gluten-free diet using chicken and rice.\"\n",
    "\n",
    "# Run the meal planner agent\n",
    "with trace(\"meal_planner_agent\") as t:\n",
    "    result = await Runner.run(meal_planner_agent, message)"
   ]
  },
  {
   "cell_type": "code",
   "execution_count": null,
   "id": "6eaccade",
   "metadata": {},
   "outputs": [
    {
     "name": "stdout",
     "output_type": "stream",
     "text": [
      "RunResult:\n",
      "- Last agent: Agent(name=\"Meal Planner Agent\", ...)\n",
      "- Final output (str):\n",
      "    Here's a delicious meal idea for you:\n",
      "    \n",
      "    ### Meal: **Coconut Curry Chicken with Rice**\n",
      "    \n",
      "    #### Recipe Overview\n",
      "    A flavorful coconut curry chicken dish served over aromatic jasmine rice, brimming with vibrant vegetables.\n",
      "    \n",
      "    #### Ingredients:\n",
      "    - **For the Coconut Curry Chicken:**\n",
      "      - 1 lb boneless, skinless chicken thighs (cut into bite-sized pieces)\n",
      "      - 1 can coconut milk\n",
      "      - 2 tbsp red curry paste\n",
      "      - 1 medium onion (chopped)\n",
      "      - 2 cloves garlic (minced)\n",
      "      - 1 inch piece ginger (grated)\n",
      "      - 1 red bell pepper (sliced)\n",
      "      - 1 cup broccoli florets\n",
      "      - 1 cup snap peas (or green beans)\n",
      "      - 2 tbsp soy sauce\n",
      "      - 1 tbsp fish sauce (optional)\n",
      "      - 1 tbsp brown sugar (or honey)\n",
      "      - 1 tbsp lime juice (fresh)\n",
      "      - 1 tbsp vegetable oil\n",
      "      - Fresh cilantro (chopped, for garnish)\n",
      "    \n",
      "    - **For the Rice:**\n",
      "      - 1 cup jasmine rice\n",
      "      - 2 cups water\n",
      "      - Pinch of salt\n",
      "    \n",
      "    #### Instructions:\n",
      "    1. **Cook the Rice:** Rinse and cook jasmine rice according to package instructions.\n",
      "    2. **Cook the Chicken:** Sauté onions, garlic, and ginger in oil. Add curry paste, then coconut milk, and simmer.\n",
      "    3. **Combine:** Stir in chicken and cook until tender, then add veggies and sauces. Simmer until veggies are vibrant.\n",
      "    4. **Serve:** Fluff rice and top with curry chicken. Garnish with cilantro.\n",
      "    \n",
      "    ### Shopping List:\n",
      "    - 1 lb boneless, skinless chicken thighs\n",
      "    - 1 can coconut milk\n",
      "    - 2 tbsp red curry paste\n",
      "    - 1 medium onion\n",
      "    - 2 cloves garlic\n",
      "    - 1 inch piece ginger\n",
      "    - 1 red bell pepper\n",
      "    - 1 cup broccoli florets\n",
      "    - 1 cup snap peas\n",
      "    - 2 tbsp soy sauce\n",
      "    - 1 tbsp fish sauce (optional)\n",
      "    - 1 tbsp brown sugar (or honey)\n",
      "    - 1 tbsp lime juice\n",
      "    - 1 tbsp vegetable oil\n",
      "    - Fresh cilantro\n",
      "    - 1 cup jasmine rice\n",
      "    - 2 cups water\n",
      "    - Pinch of salt\n",
      "    \n",
      "    Enjoy your cooking! Let me know if you need anything else.\n",
      "- 7 new item(s)\n",
      "- 4 raw response(s)\n",
      "- 0 input guardrail result(s)\n",
      "- 0 output guardrail result(s)\n",
      "(See `RunResult` for more details)\n"
     ]
    }
   ],
   "source": [
    "print(result)"
   ]
  },
  {
   "cell_type": "code",
   "execution_count": null,
   "id": "3b0fdf03",
   "metadata": {},
   "outputs": [],
   "source": []
  }
 ],
 "metadata": {
  "kernelspec": {
   "display_name": ".venv",
   "language": "python",
   "name": "python3"
  },
  "language_info": {
   "codemirror_mode": {
    "name": "ipython",
    "version": 3
   },
   "file_extension": ".py",
   "mimetype": "text/x-python",
   "name": "python",
   "nbconvert_exporter": "python",
   "pygments_lexer": "ipython3",
   "version": "3.13.5"
  }
 },
 "nbformat": 4,
 "nbformat_minor": 5
}
